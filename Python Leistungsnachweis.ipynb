{
 "cells": [
  {
   "cell_type": "markdown",
   "metadata": {},
   "source": [
    "# Titel\n",
    "\n",
    "Gruppe: Gaia Capoferri, Dana Schnekenburger, Katarina Djuric\n",
    "\n",
    "Fragen\n",
    "- Welche Länder hatten in den letzten 50 Jahren die grösste Zunahme der Schuljahre?\n",
    "- Was sind die Gründe dafür?\n",
    "\n",
    "Quellen\n",
    "- https://ourworldindata.org/grapher/mean-years-of-schooling-long-run?tab=chart"
   ]
  },
  {
   "cell_type": "markdown",
   "metadata": {},
   "source": [
    "## 1. Daten beschaffen und laden"
   ]
  },
  {
   "cell_type": "code",
   "execution_count": 3,
   "metadata": {},
   "outputs": [],
   "source": [
    "import pandas as pd\n",
    "from matplotlib import pyplot as plt"
   ]
  },
  {
   "cell_type": "code",
   "execution_count": 4,
   "metadata": {},
   "outputs": [
    {
     "data": {
      "text/html": [
       "<div>\n",
       "<style scoped>\n",
       "    .dataframe tbody tr th:only-of-type {\n",
       "        vertical-align: middle;\n",
       "    }\n",
       "\n",
       "    .dataframe tbody tr th {\n",
       "        vertical-align: top;\n",
       "    }\n",
       "\n",
       "    .dataframe thead th {\n",
       "        text-align: right;\n",
       "    }\n",
       "</style>\n",
       "<table border=\"1\" class=\"dataframe\">\n",
       "  <thead>\n",
       "    <tr style=\"text-align: right;\">\n",
       "      <th></th>\n",
       "      <th>Entity</th>\n",
       "      <th>Code</th>\n",
       "      <th>Year</th>\n",
       "      <th>Combined-average years of education for 15-64 years male and female youth and adults</th>\n",
       "    </tr>\n",
       "  </thead>\n",
       "  <tbody>\n",
       "    <tr>\n",
       "      <th>0</th>\n",
       "      <td>Afghanistan</td>\n",
       "      <td>AFG</td>\n",
       "      <td>1870</td>\n",
       "      <td>0.01</td>\n",
       "    </tr>\n",
       "    <tr>\n",
       "      <th>1</th>\n",
       "      <td>Afghanistan</td>\n",
       "      <td>AFG</td>\n",
       "      <td>1875</td>\n",
       "      <td>0.01</td>\n",
       "    </tr>\n",
       "    <tr>\n",
       "      <th>2</th>\n",
       "      <td>Afghanistan</td>\n",
       "      <td>AFG</td>\n",
       "      <td>1880</td>\n",
       "      <td>0.01</td>\n",
       "    </tr>\n",
       "    <tr>\n",
       "      <th>3</th>\n",
       "      <td>Afghanistan</td>\n",
       "      <td>AFG</td>\n",
       "      <td>1885</td>\n",
       "      <td>0.01</td>\n",
       "    </tr>\n",
       "    <tr>\n",
       "      <th>4</th>\n",
       "      <td>Afghanistan</td>\n",
       "      <td>AFG</td>\n",
       "      <td>1890</td>\n",
       "      <td>0.01</td>\n",
       "    </tr>\n",
       "  </tbody>\n",
       "</table>\n",
       "</div>"
      ],
      "text/plain": [
       "        Entity Code  Year  \\\n",
       "0  Afghanistan  AFG  1870   \n",
       "1  Afghanistan  AFG  1875   \n",
       "2  Afghanistan  AFG  1880   \n",
       "3  Afghanistan  AFG  1885   \n",
       "4  Afghanistan  AFG  1890   \n",
       "\n",
       "   Combined-average years of education for 15-64 years male and female youth and adults  \n",
       "0                                               0.01                                     \n",
       "1                                               0.01                                     \n",
       "2                                               0.01                                     \n",
       "3                                               0.01                                     \n",
       "4                                               0.01                                     "
      ]
     },
     "execution_count": 4,
     "metadata": {},
     "output_type": "execute_result"
    }
   ],
   "source": [
    "# loading the data\n",
    "df_orig = pd.read_csv('mean-years-of-schooling-long-run/mean-years-of-schooling-long-run.csv', skiprows=1,\n",
    "                 names=['Entity','Code','Year','Combined-average years of education for 15-64 years male and female youth and adults'])\n",
    "df_orig.head() "
   ]
  },
  {
   "cell_type": "markdown",
   "metadata": {},
   "source": [
    "## 2. Daten vorbereiten\n",
    "- Die Roh-Daten sind bereits im Long-Format\n",
    "- Für die Analyse werden die Daten pivotiert: Jede Spalte repräsentiert eine Region, die Zeilen sind die verschiedenen Jahre - in absteigender Reihenfolge von 5 Jahren."
   ]
  },
  {
   "cell_type": "code",
   "execution_count": 5,
   "metadata": {},
   "outputs": [
    {
     "data": {
      "text/html": [
       "<div>\n",
       "<style scoped>\n",
       "    .dataframe tbody tr th:only-of-type {\n",
       "        vertical-align: middle;\n",
       "    }\n",
       "\n",
       "    .dataframe tbody tr th {\n",
       "        vertical-align: top;\n",
       "    }\n",
       "\n",
       "    .dataframe thead th {\n",
       "        text-align: right;\n",
       "    }\n",
       "</style>\n",
       "<table border=\"1\" class=\"dataframe\">\n",
       "  <thead>\n",
       "    <tr style=\"text-align: right;\">\n",
       "      <th>Year</th>\n",
       "      <th>1870</th>\n",
       "      <th>1875</th>\n",
       "      <th>1880</th>\n",
       "      <th>1885</th>\n",
       "      <th>1890</th>\n",
       "      <th>1895</th>\n",
       "      <th>1900</th>\n",
       "      <th>1905</th>\n",
       "      <th>1910</th>\n",
       "      <th>1915</th>\n",
       "      <th>...</th>\n",
       "      <th>1995</th>\n",
       "      <th>2000</th>\n",
       "      <th>2005</th>\n",
       "      <th>2010</th>\n",
       "      <th>2015</th>\n",
       "      <th>2020</th>\n",
       "      <th>2025</th>\n",
       "      <th>2030</th>\n",
       "      <th>2035</th>\n",
       "      <th>2040</th>\n",
       "    </tr>\n",
       "    <tr>\n",
       "      <th>Entity</th>\n",
       "      <th></th>\n",
       "      <th></th>\n",
       "      <th></th>\n",
       "      <th></th>\n",
       "      <th></th>\n",
       "      <th></th>\n",
       "      <th></th>\n",
       "      <th></th>\n",
       "      <th></th>\n",
       "      <th></th>\n",
       "      <th></th>\n",
       "      <th></th>\n",
       "      <th></th>\n",
       "      <th></th>\n",
       "      <th></th>\n",
       "      <th></th>\n",
       "      <th></th>\n",
       "      <th></th>\n",
       "      <th></th>\n",
       "      <th></th>\n",
       "      <th></th>\n",
       "    </tr>\n",
       "  </thead>\n",
       "  <tbody>\n",
       "    <tr>\n",
       "      <th>Afghanistan</th>\n",
       "      <td>0.01000</td>\n",
       "      <td>0.01000</td>\n",
       "      <td>0.010000</td>\n",
       "      <td>0.010000</td>\n",
       "      <td>0.010000</td>\n",
       "      <td>0.010000</td>\n",
       "      <td>0.010000</td>\n",
       "      <td>0.010000</td>\n",
       "      <td>0.010000</td>\n",
       "      <td>0.020000</td>\n",
       "      <td>...</td>\n",
       "      <td>2.400000</td>\n",
       "      <td>3.030000</td>\n",
       "      <td>3.320000</td>\n",
       "      <td>3.930000</td>\n",
       "      <td>4.810000</td>\n",
       "      <td>5.690000</td>\n",
       "      <td>6.26000</td>\n",
       "      <td>6.840000</td>\n",
       "      <td>7.380000</td>\n",
       "      <td>7.920000</td>\n",
       "    </tr>\n",
       "    <tr>\n",
       "      <th>Africa</th>\n",
       "      <td>0.05829</td>\n",
       "      <td>0.06893</td>\n",
       "      <td>0.084427</td>\n",
       "      <td>0.103117</td>\n",
       "      <td>0.120366</td>\n",
       "      <td>0.130437</td>\n",
       "      <td>0.148879</td>\n",
       "      <td>0.183318</td>\n",
       "      <td>0.233323</td>\n",
       "      <td>0.323424</td>\n",
       "      <td>...</td>\n",
       "      <td>4.708579</td>\n",
       "      <td>5.012495</td>\n",
       "      <td>5.446501</td>\n",
       "      <td>5.890455</td>\n",
       "      <td>6.195438</td>\n",
       "      <td>6.681866</td>\n",
       "      <td>7.18392</td>\n",
       "      <td>7.733528</td>\n",
       "      <td>8.256504</td>\n",
       "      <td>8.776776</td>\n",
       "    </tr>\n",
       "    <tr>\n",
       "      <th>Albania</th>\n",
       "      <td>0.02000</td>\n",
       "      <td>0.03000</td>\n",
       "      <td>0.030000</td>\n",
       "      <td>0.040000</td>\n",
       "      <td>0.050000</td>\n",
       "      <td>0.060000</td>\n",
       "      <td>0.080000</td>\n",
       "      <td>0.100000</td>\n",
       "      <td>0.150000</td>\n",
       "      <td>0.240000</td>\n",
       "      <td>...</td>\n",
       "      <td>8.540000</td>\n",
       "      <td>9.930000</td>\n",
       "      <td>10.240000</td>\n",
       "      <td>10.440000</td>\n",
       "      <td>9.990000</td>\n",
       "      <td>10.320000</td>\n",
       "      <td>10.58000</td>\n",
       "      <td>10.830000</td>\n",
       "      <td>11.100000</td>\n",
       "      <td>11.390000</td>\n",
       "    </tr>\n",
       "    <tr>\n",
       "      <th>Algeria</th>\n",
       "      <td>0.10000</td>\n",
       "      <td>0.13000</td>\n",
       "      <td>0.160000</td>\n",
       "      <td>0.200000</td>\n",
       "      <td>0.230000</td>\n",
       "      <td>0.270000</td>\n",
       "      <td>0.390000</td>\n",
       "      <td>0.510000</td>\n",
       "      <td>0.600000</td>\n",
       "      <td>0.580000</td>\n",
       "      <td>...</td>\n",
       "      <td>5.760000</td>\n",
       "      <td>6.060000</td>\n",
       "      <td>6.430000</td>\n",
       "      <td>7.000000</td>\n",
       "      <td>7.550000</td>\n",
       "      <td>8.180000</td>\n",
       "      <td>8.77000</td>\n",
       "      <td>9.370000</td>\n",
       "      <td>10.030000</td>\n",
       "      <td>10.590000</td>\n",
       "    </tr>\n",
       "    <tr>\n",
       "      <th>Argentina</th>\n",
       "      <td>0.39000</td>\n",
       "      <td>0.49000</td>\n",
       "      <td>0.590000</td>\n",
       "      <td>0.650000</td>\n",
       "      <td>0.700000</td>\n",
       "      <td>0.830000</td>\n",
       "      <td>0.970000</td>\n",
       "      <td>1.450000</td>\n",
       "      <td>1.810000</td>\n",
       "      <td>2.350000</td>\n",
       "      <td>...</td>\n",
       "      <td>8.910000</td>\n",
       "      <td>9.080000</td>\n",
       "      <td>9.570000</td>\n",
       "      <td>9.710000</td>\n",
       "      <td>9.590000</td>\n",
       "      <td>9.860000</td>\n",
       "      <td>10.13000</td>\n",
       "      <td>10.390000</td>\n",
       "      <td>10.640000</td>\n",
       "      <td>10.870000</td>\n",
       "    </tr>\n",
       "  </tbody>\n",
       "</table>\n",
       "<p>5 rows × 35 columns</p>\n",
       "</div>"
      ],
      "text/plain": [
       "Year            1870     1875      1880      1885      1890      1895  \\\n",
       "Entity                                                                  \n",
       "Afghanistan  0.01000  0.01000  0.010000  0.010000  0.010000  0.010000   \n",
       "Africa       0.05829  0.06893  0.084427  0.103117  0.120366  0.130437   \n",
       "Albania      0.02000  0.03000  0.030000  0.040000  0.050000  0.060000   \n",
       "Algeria      0.10000  0.13000  0.160000  0.200000  0.230000  0.270000   \n",
       "Argentina    0.39000  0.49000  0.590000  0.650000  0.700000  0.830000   \n",
       "\n",
       "Year             1900      1905      1910      1915  ...      1995      2000  \\\n",
       "Entity                                               ...                       \n",
       "Afghanistan  0.010000  0.010000  0.010000  0.020000  ...  2.400000  3.030000   \n",
       "Africa       0.148879  0.183318  0.233323  0.323424  ...  4.708579  5.012495   \n",
       "Albania      0.080000  0.100000  0.150000  0.240000  ...  8.540000  9.930000   \n",
       "Algeria      0.390000  0.510000  0.600000  0.580000  ...  5.760000  6.060000   \n",
       "Argentina    0.970000  1.450000  1.810000  2.350000  ...  8.910000  9.080000   \n",
       "\n",
       "Year              2005       2010      2015       2020      2025       2030  \\\n",
       "Entity                                                                        \n",
       "Afghanistan   3.320000   3.930000  4.810000   5.690000   6.26000   6.840000   \n",
       "Africa        5.446501   5.890455  6.195438   6.681866   7.18392   7.733528   \n",
       "Albania      10.240000  10.440000  9.990000  10.320000  10.58000  10.830000   \n",
       "Algeria       6.430000   7.000000  7.550000   8.180000   8.77000   9.370000   \n",
       "Argentina     9.570000   9.710000  9.590000   9.860000  10.13000  10.390000   \n",
       "\n",
       "Year              2035       2040  \n",
       "Entity                             \n",
       "Afghanistan   7.380000   7.920000  \n",
       "Africa        8.256504   8.776776  \n",
       "Albania      11.100000  11.390000  \n",
       "Algeria      10.030000  10.590000  \n",
       "Argentina    10.640000  10.870000  \n",
       "\n",
       "[5 rows x 35 columns]"
      ]
     },
     "execution_count": 5,
     "metadata": {},
     "output_type": "execute_result"
    }
   ],
   "source": [
    "df_pivot = df_orig.pivot(index='Entity', columns='Year', values='Combined-average years of education for 15-64 years male and female youth and adults')\n",
    "df_pivot.head()"
   ]
  },
  {
   "cell_type": "markdown",
   "metadata": {},
   "source": [
    "## 3. Statistik der Roh-Daten (Analyse in Long-Format)\n",
    "\n",
    "über die einzelnen Spalten kann folgendes ausgesagt werden:\n",
    "- Die Spalte *Entity* enthält 146 verschieden Entity \n",
    "- Die Spalte *Codes* enthält 146 verschiedene Codes\n",
    "- Die Daten zwischen 1870 und 2040 sind vorhanden. Wir untersuchen nur von 1970 bis 2020\n",
    "- Die Combined-average years of education for 15-64 years male and female youth and adults streut zwischen 1 und 1374"
   ]
  },
  {
   "cell_type": "code",
   "execution_count": 6,
   "metadata": {},
   "outputs": [
    {
     "data": {
      "text/plain": [
       "Entity                                                                                   object\n",
       "Code                                                                                     object\n",
       "Year                                                                                      int64\n",
       "Combined-average years of education for 15-64 years male and female youth and adults    float64\n",
       "dtype: object"
      ]
     },
     "execution_count": 6,
     "metadata": {},
     "output_type": "execute_result"
    }
   ],
   "source": [
    "df_orig.dtypes"
   ]
  },
  {
   "cell_type": "markdown",
   "metadata": {},
   "source": [
    "### 3.1 Analyse Entity"
   ]
  },
  {
   "cell_type": "code",
   "execution_count": 7,
   "metadata": {},
   "outputs": [],
   "source": [
    "drop_entities = [\"Africa\", \"Asia\", \"Europe\", \"North America\", \"Oceania\", \"South America\", \"World\"]\n",
    "drop_years = [1870, 1875, 1880, 1885, 1890, 1895, 1900, 1905, 1910, 1915, 1920, 1925, 1930, 1935, 1940, 1945, 1950, 1955, 1960, 1965, 2025, 2030, 2035, 2040]\n",
    "df_analyse = df_orig[~df_orig[\"Entity\"].isin(drop_entities)]\n",
    "df_analyse = df_analyse[~df_analyse[\"Year\"].isin(drop_years)]"
   ]
  },
  {
   "cell_type": "code",
   "execution_count": 8,
   "metadata": {},
   "outputs": [
    {
     "name": "stdout",
     "output_type": "stream",
     "text": [
      "Anzahl verschiedener Entities:  146\n"
     ]
    }
   ],
   "source": [
    "print('Anzahl verschiedener Entities: ', len(df_analyse['Code'].unique()))"
   ]
  },
  {
   "cell_type": "code",
   "execution_count": 9,
   "metadata": {},
   "outputs": [
    {
     "data": {
      "text/plain": [
       "Entity\n",
       "Afghanistan                 11\n",
       "Italy                       11\n",
       "Peru                        11\n",
       "Paraguay                    11\n",
       "Panama                      11\n",
       "                            ..\n",
       "Slovenia                     2\n",
       "Central African Republic     2\n",
       "Estonia                      2\n",
       "Lithuania                    2\n",
       "Israel                       2\n",
       "Name: count, Length: 146, dtype: int64"
      ]
     },
     "execution_count": 9,
     "metadata": {},
     "output_type": "execute_result"
    }
   ],
   "source": [
    "# Anzahl Datenpunkte pro Entity\n",
    "df_analyse['Entity'].value_counts()"
   ]
  },
  {
   "cell_type": "code",
   "execution_count": 10,
   "metadata": {},
   "outputs": [
    {
     "data": {
      "text/plain": [
       "<Axes: title={'center': 'Anzahl Datenpunkte pro Entity'}, xlabel='Entity', ylabel='Anzahl Datenpunkte'>"
      ]
     },
     "execution_count": 10,
     "metadata": {},
     "output_type": "execute_result"
    },
    {
     "data": {
      "image/png": "[encoded data removed]",
      "text/plain": [
       "<Figure size 640x480 with 1 Axes>"
      ]
     },
     "metadata": {},
     "output_type": "display_data"
    }
   ],
   "source": [
    "df_analyse['Entity'].value_counts().plot(kind='bar',\n",
    "                                 xticks=[],     # disable labels on x-axis\n",
    "                                 ylabel='Anzahl Datenpunkte', title='Anzahl Datenpunkte pro Entity')"
   ]
  },
  {
   "cell_type": "markdown",
   "metadata": {},
   "source": [
    "### 3.2 Analyse Year"
   ]
  },
  {
   "cell_type": "code",
   "execution_count": 11,
   "metadata": {},
   "outputs": [
    {
     "name": "stdout",
     "output_type": "stream",
     "text": [
      "Anzahl verschiedener Years:  11\n"
     ]
    }
   ],
   "source": [
    "print('Anzahl verschiedener Years: ', len(df_analyse['Year'].unique()))"
   ]
  },
  {
   "cell_type": "code",
   "execution_count": 12,
   "metadata": {},
   "outputs": [
    {
     "data": {
      "text/plain": [
       "Year\n",
       "1970    111\n",
       "1975    111\n",
       "1980    111\n",
       "1985    111\n",
       "1990    111\n",
       "1995    111\n",
       "2000    111\n",
       "2005    111\n",
       "2010    111\n",
       "2015    146\n",
       "2020    146\n",
       "Name: count, dtype: int64"
      ]
     },
     "execution_count": 12,
     "metadata": {},
     "output_type": "execute_result"
    }
   ],
   "source": [
    "# Anzahl Datenpunkte pro Year\n",
    "df_analyse['Year'].value_counts().sort_index()"
   ]
  },
  {
   "cell_type": "code",
   "execution_count": 13,
   "metadata": {},
   "outputs": [
    {
     "data": {
      "text/plain": [
       "<matplotlib.legend.Legend at 0x25fd9267aa0>"
      ]
     },
     "execution_count": 13,
     "metadata": {},
     "output_type": "execute_result"
    },
    {
     "data": {
      "image/png": "[encoded data removed]",
      "text/plain": [
       "<Figure size 640x480 with 1 Axes>"
      ]
     },
     "metadata": {},
     "output_type": "display_data"
    }
   ],
   "source": [
    "g = df_analyse['Year'].value_counts().sort_index().plot(ylabel='Anzahl Datenpunkte', title='Anzahl Datenpunkte pro Year');\n",
    "g.axvline(x=1870, color='red', label='1870')\n",
    "g.legend()"
   ]
  },
  {
   "cell_type": "markdown",
   "metadata": {},
   "source": [
    "### 3.3 Analyse Combined-average years of education for 15-64 years male and female youth and adults"
   ]
  },
  {
   "cell_type": "code",
   "execution_count": 14,
   "metadata": {},
   "outputs": [
    {
     "data": {
      "text/html": [
       "<div>\n",
       "<style scoped>\n",
       "    .dataframe tbody tr th:only-of-type {\n",
       "        vertical-align: middle;\n",
       "    }\n",
       "\n",
       "    .dataframe tbody tr th {\n",
       "        vertical-align: top;\n",
       "    }\n",
       "\n",
       "    .dataframe thead th {\n",
       "        text-align: right;\n",
       "    }\n",
       "</style>\n",
       "<table border=\"1\" class=\"dataframe\">\n",
       "  <thead>\n",
       "    <tr style=\"text-align: right;\">\n",
       "      <th></th>\n",
       "      <th>Year</th>\n",
       "      <th>Combined-average years of education for 15-64 years male and female youth and adults</th>\n",
       "    </tr>\n",
       "  </thead>\n",
       "  <tbody>\n",
       "    <tr>\n",
       "      <th>count</th>\n",
       "      <td>1291.000000</td>\n",
       "      <td>1291.000000</td>\n",
       "    </tr>\n",
       "    <tr>\n",
       "      <th>mean</th>\n",
       "      <td>1996.219985</td>\n",
       "      <td>7.175864</td>\n",
       "    </tr>\n",
       "    <tr>\n",
       "      <th>std</th>\n",
       "      <td>16.215686</td>\n",
       "      <td>3.259836</td>\n",
       "    </tr>\n",
       "    <tr>\n",
       "      <th>min</th>\n",
       "      <td>1970.000000</td>\n",
       "      <td>0.070000</td>\n",
       "    </tr>\n",
       "    <tr>\n",
       "      <th>25%</th>\n",
       "      <td>1980.000000</td>\n",
       "      <td>4.640000</td>\n",
       "    </tr>\n",
       "    <tr>\n",
       "      <th>50%</th>\n",
       "      <td>1995.000000</td>\n",
       "      <td>7.370000</td>\n",
       "    </tr>\n",
       "    <tr>\n",
       "      <th>75%</th>\n",
       "      <td>2010.000000</td>\n",
       "      <td>9.865000</td>\n",
       "    </tr>\n",
       "    <tr>\n",
       "      <th>max</th>\n",
       "      <td>2020.000000</td>\n",
       "      <td>13.740000</td>\n",
       "    </tr>\n",
       "  </tbody>\n",
       "</table>\n",
       "</div>"
      ],
      "text/plain": [
       "              Year  \\\n",
       "count  1291.000000   \n",
       "mean   1996.219985   \n",
       "std      16.215686   \n",
       "min    1970.000000   \n",
       "25%    1980.000000   \n",
       "50%    1995.000000   \n",
       "75%    2010.000000   \n",
       "max    2020.000000   \n",
       "\n",
       "       Combined-average years of education for 15-64 years male and female youth and adults  \n",
       "count                                        1291.000000                                     \n",
       "mean                                            7.175864                                     \n",
       "std                                             3.259836                                     \n",
       "min                                             0.070000                                     \n",
       "25%                                             4.640000                                     \n",
       "50%                                             7.370000                                     \n",
       "75%                                             9.865000                                     \n",
       "max                                            13.740000                                     "
      ]
     },
     "execution_count": 14,
     "metadata": {},
     "output_type": "execute_result"
    }
   ],
   "source": [
    "df_analyse.describe()"
   ]
  },
  {
   "cell_type": "code",
   "execution_count": 27,
   "metadata": {},
   "outputs": [
    {
     "data": {
      "text/plain": [
       "<matplotlib.legend.Legend at 0x25fdbc6e6f0>"
      ]
     },
     "execution_count": 27,
     "metadata": {},
     "output_type": "execute_result"
    },
    {
     "data": {
      "image/png": "[encoded data removed]",
      "text/plain": [
       "<Figure size 640x480 with 1 Axes>"
      ]
     },
     "metadata": {},
     "output_type": "display_data"
    }
   ],
   "source": [
    "g = df_analyse['Combined-average years of education for 15-64 years male and female youth and adults'].plot(kind='hist', bins=20, title='Histogramm der Combined-average years of education for 15-64 years male and female youth and adults',\n",
    "                                                                                                    xlabel='Combined-average years of education', ylabel='Anzahl Datenpunkte')\n",
    "mean = df_analyse['Combined-average years of education for 15-64 years male and female youth and adults'].mean()\n",
    "g.axvline(x=df_analyse['Combined-average years of education for 15-64 years male and female youth and adults'].mean(), color='red',label=f'Mittelwert = {mean:2f}')\n",
    "\n",
    "median = df_analyse['Combined-average years of education for 15-64 years male and female youth and adults'].median()\n",
    "g.axvline(x=df_analyse['Combined-average years of education for 15-64 years male and female youth and adults'].median(), color='orange',label=  f'Median = {median:.2f}')\n",
    "\n",
    "g.legend(loc=[-0.2,-0.4])"
   ]
  },
  {
   "cell_type": "markdown",
   "metadata": {},
   "source": [
    "## 4. Analyse\n",
    "\n",
    "### Vorgehen\n",
    "\n",
    "### Beobachtungen\n",
    "- "
   ]
  },
  {
   "cell_type": "markdown",
   "metadata": {},
   "source": [
    "### Berechnungen"
   ]
  },
  {
   "cell_type": "code",
   "execution_count": 54,
   "metadata": {},
   "outputs": [
    {
     "data": {
      "text/html": [
       "<div>\n",
       "<style scoped>\n",
       "    .dataframe tbody tr th:only-of-type {\n",
       "        vertical-align: middle;\n",
       "    }\n",
       "\n",
       "    .dataframe tbody tr th {\n",
       "        vertical-align: top;\n",
       "    }\n",
       "\n",
       "    .dataframe thead th {\n",
       "        text-align: right;\n",
       "    }\n",
       "</style>\n",
       "<table border=\"1\" class=\"dataframe\">\n",
       "  <thead>\n",
       "    <tr style=\"text-align: right;\">\n",
       "      <th>Year</th>\n",
       "      <th>1970</th>\n",
       "      <th>1975</th>\n",
       "      <th>1980</th>\n",
       "      <th>1985</th>\n",
       "      <th>1990</th>\n",
       "      <th>1995</th>\n",
       "      <th>2000</th>\n",
       "      <th>2005</th>\n",
       "      <th>2010</th>\n",
       "      <th>2015</th>\n",
       "      <th>2020</th>\n",
       "    </tr>\n",
       "    <tr>\n",
       "      <th>Entity</th>\n",
       "      <th></th>\n",
       "      <th></th>\n",
       "      <th></th>\n",
       "      <th></th>\n",
       "      <th></th>\n",
       "      <th></th>\n",
       "      <th></th>\n",
       "      <th></th>\n",
       "      <th></th>\n",
       "      <th></th>\n",
       "      <th></th>\n",
       "    </tr>\n",
       "  </thead>\n",
       "  <tbody>\n",
       "    <tr>\n",
       "      <th>Afghanistan</th>\n",
       "      <td>0.72</td>\n",
       "      <td>0.97</td>\n",
       "      <td>1.29</td>\n",
       "      <td>1.73</td>\n",
       "      <td>2.06</td>\n",
       "      <td>2.40</td>\n",
       "      <td>3.03</td>\n",
       "      <td>3.32</td>\n",
       "      <td>3.93</td>\n",
       "      <td>4.81</td>\n",
       "      <td>5.69</td>\n",
       "    </tr>\n",
       "    <tr>\n",
       "      <th>Albania</th>\n",
       "      <td>4.63</td>\n",
       "      <td>5.77</td>\n",
       "      <td>6.95</td>\n",
       "      <td>7.93</td>\n",
       "      <td>8.61</td>\n",
       "      <td>8.54</td>\n",
       "      <td>9.93</td>\n",
       "      <td>10.24</td>\n",
       "      <td>10.44</td>\n",
       "      <td>9.99</td>\n",
       "      <td>10.32</td>\n",
       "    </tr>\n",
       "    <tr>\n",
       "      <th>Algeria</th>\n",
       "      <td>1.69</td>\n",
       "      <td>2.26</td>\n",
       "      <td>3.00</td>\n",
       "      <td>4.28</td>\n",
       "      <td>5.05</td>\n",
       "      <td>5.76</td>\n",
       "      <td>6.06</td>\n",
       "      <td>6.43</td>\n",
       "      <td>7.00</td>\n",
       "      <td>7.55</td>\n",
       "      <td>8.18</td>\n",
       "    </tr>\n",
       "    <tr>\n",
       "      <th>Argentina</th>\n",
       "      <td>6.48</td>\n",
       "      <td>7.03</td>\n",
       "      <td>7.51</td>\n",
       "      <td>8.09</td>\n",
       "      <td>8.67</td>\n",
       "      <td>8.91</td>\n",
       "      <td>9.08</td>\n",
       "      <td>9.57</td>\n",
       "      <td>9.71</td>\n",
       "      <td>9.59</td>\n",
       "      <td>9.86</td>\n",
       "    </tr>\n",
       "    <tr>\n",
       "      <th>Armenia</th>\n",
       "      <td>NaN</td>\n",
       "      <td>NaN</td>\n",
       "      <td>NaN</td>\n",
       "      <td>NaN</td>\n",
       "      <td>NaN</td>\n",
       "      <td>NaN</td>\n",
       "      <td>NaN</td>\n",
       "      <td>NaN</td>\n",
       "      <td>NaN</td>\n",
       "      <td>10.45</td>\n",
       "      <td>10.54</td>\n",
       "    </tr>\n",
       "  </tbody>\n",
       "</table>\n",
       "</div>"
      ],
      "text/plain": [
       "Year         1970  1975  1980  1985  1990  1995  2000   2005   2010   2015  \\\n",
       "Entity                                                                       \n",
       "Afghanistan  0.72  0.97  1.29  1.73  2.06  2.40  3.03   3.32   3.93   4.81   \n",
       "Albania      4.63  5.77  6.95  7.93  8.61  8.54  9.93  10.24  10.44   9.99   \n",
       "Algeria      1.69  2.26  3.00  4.28  5.05  5.76  6.06   6.43   7.00   7.55   \n",
       "Argentina    6.48  7.03  7.51  8.09  8.67  8.91  9.08   9.57   9.71   9.59   \n",
       "Armenia       NaN   NaN   NaN   NaN   NaN   NaN   NaN    NaN    NaN  10.45   \n",
       "\n",
       "Year          2020  \n",
       "Entity              \n",
       "Afghanistan   5.69  \n",
       "Albania      10.32  \n",
       "Algeria       8.18  \n",
       "Argentina     9.86  \n",
       "Armenia      10.54  "
      ]
     },
     "execution_count": 54,
     "metadata": {},
     "output_type": "execute_result"
    }
   ],
   "source": [
    "dr_pivot = df_analyse.pivot(index='Entity', columns='Year', values='Combined-average years of education for 15-64 years male and female youth and adults')\n",
    "dr_pivot.head()"
   ]
  },
  {
   "cell_type": "code",
   "execution_count": 55,
   "metadata": {},
   "outputs": [
    {
     "data": {
      "text/html": [
       "<div>\n",
       "<style scoped>\n",
       "    .dataframe tbody tr th:only-of-type {\n",
       "        vertical-align: middle;\n",
       "    }\n",
       "\n",
       "    .dataframe tbody tr th {\n",
       "        vertical-align: top;\n",
       "    }\n",
       "\n",
       "    .dataframe thead th {\n",
       "        text-align: right;\n",
       "    }\n",
       "</style>\n",
       "<table border=\"1\" class=\"dataframe\">\n",
       "  <thead>\n",
       "    <tr style=\"text-align: right;\">\n",
       "      <th>Year</th>\n",
       "      <th>1970</th>\n",
       "      <th>1975</th>\n",
       "      <th>1980</th>\n",
       "      <th>1985</th>\n",
       "      <th>1990</th>\n",
       "      <th>1995</th>\n",
       "      <th>2000</th>\n",
       "      <th>2005</th>\n",
       "      <th>2010</th>\n",
       "      <th>2015</th>\n",
       "      <th>2020</th>\n",
       "    </tr>\n",
       "    <tr>\n",
       "      <th>Entity</th>\n",
       "      <th></th>\n",
       "      <th></th>\n",
       "      <th></th>\n",
       "      <th></th>\n",
       "      <th></th>\n",
       "      <th></th>\n",
       "      <th></th>\n",
       "      <th></th>\n",
       "      <th></th>\n",
       "      <th></th>\n",
       "      <th></th>\n",
       "    </tr>\n",
       "  </thead>\n",
       "  <tbody>\n",
       "    <tr>\n",
       "      <th>Venezuela</th>\n",
       "      <td>3.49</td>\n",
       "      <td>4.51</td>\n",
       "      <td>5.47</td>\n",
       "      <td>5.33</td>\n",
       "      <td>5.26</td>\n",
       "      <td>6.11</td>\n",
       "      <td>7.01</td>\n",
       "      <td>7.80</td>\n",
       "      <td>8.78</td>\n",
       "      <td>9.02</td>\n",
       "      <td>9.33</td>\n",
       "    </tr>\n",
       "    <tr>\n",
       "      <th>Vietnam</th>\n",
       "      <td>NaN</td>\n",
       "      <td>NaN</td>\n",
       "      <td>NaN</td>\n",
       "      <td>NaN</td>\n",
       "      <td>NaN</td>\n",
       "      <td>NaN</td>\n",
       "      <td>NaN</td>\n",
       "      <td>NaN</td>\n",
       "      <td>NaN</td>\n",
       "      <td>7.99</td>\n",
       "      <td>8.35</td>\n",
       "    </tr>\n",
       "    <tr>\n",
       "      <th>Yemen</th>\n",
       "      <td>0.07</td>\n",
       "      <td>0.08</td>\n",
       "      <td>0.25</td>\n",
       "      <td>0.64</td>\n",
       "      <td>1.25</td>\n",
       "      <td>1.77</td>\n",
       "      <td>2.45</td>\n",
       "      <td>3.12</td>\n",
       "      <td>3.84</td>\n",
       "      <td>4.64</td>\n",
       "      <td>5.56</td>\n",
       "    </tr>\n",
       "    <tr>\n",
       "      <th>Zambia</th>\n",
       "      <td>3.12</td>\n",
       "      <td>3.81</td>\n",
       "      <td>4.36</td>\n",
       "      <td>4.77</td>\n",
       "      <td>5.02</td>\n",
       "      <td>6.03</td>\n",
       "      <td>6.35</td>\n",
       "      <td>6.59</td>\n",
       "      <td>7.40</td>\n",
       "      <td>7.90</td>\n",
       "      <td>8.37</td>\n",
       "    </tr>\n",
       "    <tr>\n",
       "      <th>Zimbabwe</th>\n",
       "      <td>3.22</td>\n",
       "      <td>3.54</td>\n",
       "      <td>4.03</td>\n",
       "      <td>4.84</td>\n",
       "      <td>5.97</td>\n",
       "      <td>6.85</td>\n",
       "      <td>7.26</td>\n",
       "      <td>7.65</td>\n",
       "      <td>7.86</td>\n",
       "      <td>8.03</td>\n",
       "      <td>8.32</td>\n",
       "    </tr>\n",
       "  </tbody>\n",
       "</table>\n",
       "</div>"
      ],
      "text/plain": [
       "Year       1970  1975  1980  1985  1990  1995  2000  2005  2010  2015  2020\n",
       "Entity                                                                     \n",
       "Venezuela  3.49  4.51  5.47  5.33  5.26  6.11  7.01  7.80  8.78  9.02  9.33\n",
       "Vietnam     NaN   NaN   NaN   NaN   NaN   NaN   NaN   NaN   NaN  7.99  8.35\n",
       "Yemen      0.07  0.08  0.25  0.64  1.25  1.77  2.45  3.12  3.84  4.64  5.56\n",
       "Zambia     3.12  3.81  4.36  4.77  5.02  6.03  6.35  6.59  7.40  7.90  8.37\n",
       "Zimbabwe   3.22  3.54  4.03  4.84  5.97  6.85  7.26  7.65  7.86  8.03  8.32"
      ]
     },
     "execution_count": 55,
     "metadata": {},
     "output_type": "execute_result"
    }
   ],
   "source": [
    "dr_pivot = df_analyse.pivot(index='Entity', columns='Year', values='Combined-average years of education for 15-64 years male and female youth and adults')\n",
    "dr_pivot.tail()"
   ]
  },
  {
   "cell_type": "code",
   "execution_count": 47,
   "metadata": {},
   "outputs": [
    {
     "data": {
      "text/plain": [
       "Entity\n",
       "Belize        -0.57\n",
       "Guyana        -0.48\n",
       "Russia        -0.42\n",
       "Sri Lanka     -0.34\n",
       "Bulgaria      -0.32\n",
       "               ... \n",
       "Yemen          1.72\n",
       "Nepal          1.75\n",
       "Afghanistan    1.76\n",
       "Iceland        2.01\n",
       "Mozambique     2.19\n",
       "Length: 111, dtype: float64"
      ]
     },
     "execution_count": 47,
     "metadata": {},
     "output_type": "execute_result"
    }
   ],
   "source": [
    "diffs = dr_pivot[2020]-dr_pivot[2010]\n",
    "diffs = diffs.sort_values().dropna()\n",
    "diffs"
   ]
  },
  {
   "cell_type": "code",
   "execution_count": 60,
   "metadata": {},
   "outputs": [
    {
     "data": {
      "text/plain": [
       "<Axes: title={'center': 'Grösste und kleinste Differenzen der \"Combined-average years of education for 15-64 years male and female youth and adults\" 2010-2020'}, ylabel='Entity'>"
      ]
     },
     "execution_count": 60,
     "metadata": {},
     "output_type": "execute_result"
    },
    {
     "data": {
      "image/png": "[encoded data removed]",
      "text/plain": [
       "<Figure size 640x480 with 1 Axes>"
      ]
     },
     "metadata": {},
     "output_type": "display_data"
    }
   ],
   "source": [
    "diff_sel = (diffs < -0.31) | (diffs > 1.7)\n",
    "diffs[diff_sel].plot(kind='barh', title='Grösste und kleinste Differenzen der \"Combined-average years of education for 15-64 years male and female youth and adults\" 2010-2020')"
   ]
  },
  {
   "cell_type": "code",
   "execution_count": 64,
   "metadata": {},
   "outputs": [
    {
     "name": "stdout",
     "output_type": "stream",
     "text": [
      "['Belize', 'Guyana', 'Russia', 'Sri Lanka', 'Bulgaria', 'Yemen', 'Nepal', 'Afghanistan', 'Iceland', 'Mozambique']\n"
     ]
    }
   ],
   "source": [
    "Entity_liste = diffs[diff_sel].index.tolist()  # Liste der Gebiete mit grössten und kleinsten Differenzen\n",
    "print(Entity_liste)"
   ]
  },
  {
   "cell_type": "code",
   "execution_count": null,
   "metadata": {},
   "outputs": [],
   "source": []
  }
 ],
 "metadata": {
  "kernelspec": {
   "display_name": "base",
   "language": "python",
   "name": "python3"
  },
  "language_info": {
   "codemirror_mode": {
    "name": "ipython",
    "version": 3
   },
   "file_extension": ".py",
   "mimetype": "text/x-python",
   "name": "python",
   "nbconvert_exporter": "python",
   "pygments_lexer": "ipython3",
   "version": "3.12.4"
  }
 },
 "nbformat": 4,
 "nbformat_minor": 2
}
