{
 "cells": [
  {
   "cell_type": "markdown",
   "metadata": {},
   "source": [
    "# Titel\n",
    "\n",
    "Gruppe: Gaia Capoferri, Dana Schnekenburger, Katarina Djuric\n",
    "\n",
    "Fragen\n",
    "- Welche Länder hatten in den letzten XXX Jahren die grösste Zunahme der Schuljahre?\n",
    "- Was sind die Gründe dafür?\n",
    "\n",
    "Quellen\n",
    "- https://ourworldindata.org/grapher/mean-years-of-schooling-long-run?tab=chart"
   ]
  },
  {
   "cell_type": "markdown",
   "metadata": {},
   "source": [
    "## 1. Daten beschaffen und laden"
   ]
  },
  {
   "cell_type": "code",
   "execution_count": null,
   "metadata": {},
   "outputs": [],
   "source": []
  }
 ],
 "metadata": {
  "kernelspec": {
   "display_name": "base",
   "language": "python",
   "name": "python3"
  },
  "language_info": {
   "name": "python",
   "version": "3.12.4"
  }
 },
 "nbformat": 4,
 "nbformat_minor": 2
}
